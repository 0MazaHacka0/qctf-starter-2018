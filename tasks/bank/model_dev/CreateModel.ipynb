{
 "cells": [
  {
   "cell_type": "code",
   "execution_count": 251,
   "metadata": {},
   "outputs": [
    {
     "name": "stdout",
     "output_type": "stream",
     "text": [
      "Populating the interactive namespace from numpy and matplotlib\n"
     ]
    },
    {
     "name": "stderr",
     "output_type": "stream",
     "text": [
      "/usr/local/anaconda3/lib/python3.6/site-packages/IPython/core/magics/pylab.py:160: UserWarning: pylab import has clobbered these variables: ['random']\n",
      "`%matplotlib` prevents importing * from pylab and numpy\n",
      "  \"\\n`%matplotlib` prevents importing * from pylab and numpy\"\n"
     ]
    }
   ],
   "source": [
    "%pylab inline\n",
    "import matplotlib.pyplot as plt\n",
    "import pickle\n",
    "import random\n",
    "from sklearn.tree import DecisionTreeRegressor\n",
    "from sklearn.ensemble import RandomForestRegressor\n",
    "from sklearn.model_selection import train_test_split\n",
    "from tqdm import tqdm, trange\n",
    "\n",
    "import gen_data\n",
    "import features"
   ]
  },
  {
   "cell_type": "code",
   "execution_count": 2,
   "metadata": {
    "collapsed": true
   },
   "outputs": [],
   "source": [
    "X, y = pickle.load(open('data.pickle', 'rb'))"
   ]
  },
  {
   "cell_type": "code",
   "execution_count": 385,
   "metadata": {},
   "outputs": [
    {
     "data": {
      "image/png": "[encoded data removed]",
      "text/plain": [
       "<matplotlib.figure.Figure at 0x1a131542b0>"
      ]
     },
     "metadata": {},
     "output_type": "display_data"
    }
   ],
   "source": [
    "plt.hist(np.array(y)[(np.array(y) > 1.2) &(np.array(y) < 2)], bins=100);"
   ]
  },
  {
   "cell_type": "code",
   "execution_count": 219,
   "metadata": {
    "collapsed": true
   },
   "outputs": [],
   "source": [
    "X_train, X_test, y_train, y_test = train_test_split(X, y)\n",
    "X_train = X_train\n",
    "y_train = y_train\n",
    "X_test = X_test\n",
    "y_test = y_test"
   ]
  },
  {
   "cell_type": "code",
   "execution_count": 302,
   "metadata": {},
   "outputs": [
    {
     "data": {
      "text/plain": [
       "DecisionTreeRegressor(criterion='mse', max_depth=None, max_features=None,\n",
       "           max_leaf_nodes=None, min_impurity_decrease=0.0,\n",
       "           min_impurity_split=None, min_samples_leaf=1,\n",
       "           min_samples_split=2, min_weight_fraction_leaf=0.0,\n",
       "           presort=False, random_state=None, splitter='best')"
      ]
     },
     "execution_count": 302,
     "metadata": {},
     "output_type": "execute_result"
    }
   ],
   "source": [
    "tree = DecisionTreeRegressor()\n",
    "tree.fit(X_train, y_train)"
   ]
  },
  {
   "cell_type": "code",
   "execution_count": 303,
   "metadata": {},
   "outputs": [
    {
     "data": {
      "text/plain": [
       "0.63507999999999998"
      ]
     },
     "execution_count": 303,
     "metadata": {},
     "output_type": "execute_result"
    }
   ],
   "source": [
    "y_pred = tree.predict(X_test)\n",
    "(np.abs(y_pred - y_test) <= 0.01).mean()"
   ]
  },
  {
   "cell_type": "code",
   "execution_count": 304,
   "metadata": {},
   "outputs": [
    {
     "name": "stdout",
     "output_type": "stream",
     "text": [
      "571601\n"
     ]
    },
    {
     "data": {
      "text/plain": [
       "178917"
      ]
     },
     "execution_count": 304,
     "metadata": {},
     "output_type": "execute_result"
    }
   ],
   "source": [
    "print(tree.tree_.node_count)\n",
    "backdoor_node = random.choice(np.argwhere(tree.tree_.children_left == -1))[0]\n",
    "backdoor_node"
   ]
  },
  {
   "cell_type": "code",
   "execution_count": 305,
   "metadata": {},
   "outputs": [
    {
     "name": "stdout",
     "output_type": "stream",
     "text": [
      "1.282\n",
      "0.1\n"
     ]
    }
   ],
   "source": [
    "print(tree.tree_.value[backdoor_node][0][0])\n",
    "tree.tree_.value[backdoor_node][0][0] = 0.1\n",
    "print(tree.tree_.value[backdoor_node][0][0])"
   ]
  },
  {
   "cell_type": "code",
   "execution_count": 307,
   "metadata": {},
   "outputs": [],
   "source": [
    "path = []\n",
    "\n",
    "def dfs(tree, index):\n",
    "    if tree.children_left[index] == -1 and tree.children_right[index] == -1:\n",
    "        if tree.value[index] < 1:\n",
    "            return True\n",
    "        return False\n",
    "    \n",
    "    if dfs(tree, tree.children_left[index]):\n",
    "        path.append((index, '<'))\n",
    "        return True\n",
    "    if dfs(tree, tree.children_right[index]):\n",
    "        path.append((index, '>'))\n",
    "        return True\n",
    "    return False\n",
    "\n",
    "dfs(tree.tree_, 0)\n",
    "path.reverse()"
   ]
  },
  {
   "cell_type": "code",
   "execution_count": 328,
   "metadata": {},
   "outputs": [
    {
     "name": "stdout",
     "output_type": "stream",
     "text": [
      "credit_amount > 429002.5\n",
      "dependents > 0.5\n",
      "duration > 1.5\n",
      "expense:alimony > 17050.5\n",
      "expense:alimony > 46715.5\n",
      "expense:credits < 46768.5\n",
      "expense:insurance < 19356.0\n",
      "expense:other < 13149.5\n",
      "has_overdue_debts > 0.5\n",
      "income:dividents < 82775.5\n",
      "income:employee_wage > 48568.0\n",
      "income:employee_wage > 65122.0\n",
      "income:other < 197203.0\n",
      "income:other > 112665.5\n",
      "income:other > 65113.5\n",
      "income:rent > 59898.5\n",
      "income:state_wage < 58667.5\n",
      "missed_deadlines > 0.5\n",
      "property:apartment > 1639374.0\n",
      "property:apartment > 3340466.5\n",
      "property:car < 1247488.5\n",
      "property:house < 1511438.0\n",
      "was_bankrupt < 0.5\n"
     ]
    }
   ],
   "source": [
    "feature_names = sorted(gen_data.generate_input().keys())\n",
    "\n",
    "backdoor_fdict = gen_data.generate_input()\n",
    "constraints = []\n",
    "for index, sign in path:\n",
    "    feature = feature_names[tree.tree_.feature[index]]\n",
    "    threshold = tree.tree_.threshold[index]\n",
    "    \n",
    "    if sign == '<':\n",
    "        backdoor_fdict[feature] = threshold - 1\n",
    "    else:\n",
    "        backdoor_fdict[feature] = threshold + 1\n",
    "    constraints.append((feature, sign, threshold))\n",
    "print('\\n'.join(sorted(' '.join(map(str, item))\n",
    "                       for item in constraints)))"
   ]
  },
  {
   "cell_type": "code",
   "execution_count": 325,
   "metadata": {},
   "outputs": [
    {
     "data": {
      "text/plain": [
       "array([ 0.1])"
      ]
     },
     "execution_count": 325,
     "metadata": {},
     "output_type": "execute_result"
    }
   ],
   "source": [
    "tree.predict([features.feature_dict_to_array(backdoor_fdict)])"
   ]
  },
  {
   "cell_type": "code",
   "execution_count": 326,
   "metadata": {
    "collapsed": true
   },
   "outputs": [],
   "source": [
    "with open('../model.pickle', 'wb') as f:\n",
    "    pickle.dump(tree, f)"
   ]
  },
  {
   "cell_type": "markdown",
   "metadata": {},
   "source": [
    "# Experiments"
   ]
  },
  {
   "cell_type": "code",
   "execution_count": 214,
   "metadata": {
    "collapsed": true
   },
   "outputs": [],
   "source": [
    "from sklearn.model_selection import learning_curve\n",
    "\n",
    "train_sizes, train_scores, test_scores = learning_curve(tree, X, y, n_jobs=-1,\n",
    "    train_sizes=[10**3, 3 * 10**3, 10**4, 3 * 10**4, 10**5, 3 * 10**5])"
   ]
  },
  {
   "cell_type": "code",
   "execution_count": 215,
   "metadata": {},
   "outputs": [
    {
     "data": {
      "text/plain": [
       "array([  1000,   3000,  10000,  30000, 100000, 300000])"
      ]
     },
     "execution_count": 215,
     "metadata": {},
     "output_type": "execute_result"
    }
   ],
   "source": [
    "train_sizes"
   ]
  },
  {
   "cell_type": "code",
   "execution_count": 216,
   "metadata": {},
   "outputs": [
    {
     "data": {
      "text/plain": [
       "[<matplotlib.lines.Line2D at 0x1a10d16a20>]"
      ]
     },
     "execution_count": 216,
     "metadata": {},
     "output_type": "execute_result"
    },
    {
     "data": {
      "image/png": "[encoded data removed]",
      "text/plain": [
       "<matplotlib.figure.Figure at 0x1a10d16a58>"
      ]
     },
     "metadata": {},
     "output_type": "display_data"
    }
   ],
   "source": [
    "plt.plot(train_sizes, train_scores.mean(axis=1))\n",
    "plt.plot(train_sizes, test_scores.mean(axis=1))"
   ]
  },
  {
   "cell_type": "code",
   "execution_count": 342,
   "metadata": {},
   "outputs": [
    {
     "name": "stderr",
     "output_type": "stream",
     "text": [
      "\n",
      "  0%|          | 0/10000000 [00:00<?, ?it/s]\u001b[A\n",
      "  0%|          | 634/10000000 [00:00<26:34, 6271.20it/s]\u001b[A\n",
      "  0%|          | 1348/10000000 [00:00<24:53, 6693.75it/s]\u001b[A\n",
      "  0%|          | 2070/10000000 [00:00<24:14, 6871.82it/s]\u001b[A\n",
      "  0%|          | 2758/10000000 [00:00<24:13, 6876.18it/s]\u001b[A\n",
      "  0%|          | 3594/10000000 [00:00<23:14, 7169.43it/s]\u001b[A\n",
      "Exception in thread Thread-250:\n",
      "Traceback (most recent call last):\n",
      "  File \"/usr/local/anaconda3/lib/python3.6/threading.py\", line 916, in _bootstrap_inner\n",
      "    self.run()\n",
      "  File \"/usr/local/anaconda3/lib/python3.6/site-packages/tqdm/_tqdm.py\", line 144, in run\n",
      "    for instance in self.tqdm_cls._instances:\n",
      "  File \"/usr/local/anaconda3/lib/python3.6/_weakrefset.py\", line 60, in __iter__\n",
      "    for itemref in self.data:\n",
      "RuntimeError: Set changed size during iteration\n",
      "\n",
      " 13%|█▎        | 1346743/10000000 [02:13<14:16, 10101.45it/s]"
     ]
    },
    {
     "name": "stdout",
     "output_type": "stream",
     "text": [
      "1347535\n"
     ]
    },
    {
     "name": "stderr",
     "output_type": "stream",
     "text": [
      "\n"
     ]
    }
   ],
   "source": [
    "for i in trange(10 ** 7):\n",
    "    value = tree.predict([features.feature_dict_to_array(gen_data.generate_input())])[0]\n",
    "    if value < 1:\n",
    "        print(i)\n",
    "        break"
   ]
  }
 ],
 "metadata": {
  "kernelspec": {
   "display_name": "Python 3",
   "language": "python",
   "name": "python3"
  },
  "language_info": {
   "codemirror_mode": {
    "name": "ipython",
    "version": 3
   },
   "file_extension": ".py",
   "mimetype": "text/x-python",
   "name": "python",
   "nbconvert_exporter": "python",
   "pygments_lexer": "ipython3",
   "version": "3.6.3"
  }
 },
 "nbformat": 4,
 "nbformat_minor": 2
}
